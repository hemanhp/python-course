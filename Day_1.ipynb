{
  "nbformat": 4,
  "nbformat_minor": 0,
  "metadata": {
    "colab": {
      "name": "Day 1.ipynb",
      "provenance": [],
      "authorship_tag": "ABX9TyNBNEoM/85aH/rDhUv9Can0",
      "include_colab_link": true
    },
    "kernelspec": {
      "name": "python3",
      "display_name": "Python 3"
    },
    "language_info": {
      "name": "python"
    }
  },
  "cells": [
    {
      "cell_type": "markdown",
      "metadata": {
        "id": "view-in-github",
        "colab_type": "text"
      },
      "source": [
        "<a href=\"https://colab.research.google.com/github/hemanhp/python-course/blob/main/Day_1.ipynb\" target=\"_parent\"><img src=\"https://colab.research.google.com/assets/colab-badge.svg\" alt=\"Open In Colab\"/></a>"
      ]
    },
    {
      "cell_type": "code",
      "metadata": {
        "id": "hSKCF-aVExJu"
      },
      "source": [
        "import random"
      ],
      "execution_count": null,
      "outputs": []
    },
    {
      "cell_type": "code",
      "metadata": {
        "colab": {
          "base_uri": "https://localhost:8080/"
        },
        "id": "JiLR2r1aG_ms",
        "outputId": "ab3e8771-17b3-4186-dd6f-870be27dc2ca"
      },
      "source": [
        "while abs((g*g)-x)>=0.0000000001:\n",
        "  g = (g+(x/g))/2\n",
        "  print(g)\n",
        "print(\"square root:\")\n",
        "print(g)"
      ],
      "execution_count": null,
      "outputs": [
        {
          "output_type": "stream",
          "name": "stdout",
          "text": [
            "2649.504340441593\n",
            "1324.7608510897608\n",
            "662.3977871690415\n",
            "331.23361592273733\n",
            "165.68624535810127\n",
            "82.98193927152208\n",
            "41.76813838117614\n",
            "21.434728159156457\n",
            "11.79038911769493\n",
            "7.845935944089939\n",
            "6.85442193291054\n",
            "6.782709099648493\n",
            "6.782329993720543\n",
            "6.782329983125268\n",
            "square root:\n",
            "6.782329983125268\n"
          ]
        }
      ]
    }
  ]
}