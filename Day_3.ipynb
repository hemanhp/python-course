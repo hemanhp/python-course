{
  "nbformat": 4,
  "nbformat_minor": 0,
  "metadata": {
    "colab": {
      "name": "Day 3.ipynb",
      "provenance": [],
      "authorship_tag": "ABX9TyO3XdVTg68Z5FyOMbhouqJ9",
      "include_colab_link": true
    },
    "kernelspec": {
      "name": "python3",
      "display_name": "Python 3"
    },
    "language_info": {
      "name": "python"
    }
  },
  "cells": [
    {
      "cell_type": "markdown",
      "metadata": {
        "id": "view-in-github",
        "colab_type": "text"
      },
      "source": [
        "<a href=\"https://colab.research.google.com/github/hemanhp/python-course/blob/main/Day_3.ipynb\" target=\"_parent\"><img src=\"https://colab.research.google.com/assets/colab-badge.svg\" alt=\"Open In Colab\"/></a>"
      ]
    },
    {
      "cell_type": "code",
      "execution_count": 7,
      "metadata": {
        "id": "Ee5o6JvRoKss"
      },
      "outputs": [],
      "source": [
        "name = 'My name is heman hosseinapan, this is python code'"
      ]
    },
    {
      "cell_type": "code",
      "source": [
        "len(name)"
      ],
      "metadata": {
        "colab": {
          "base_uri": "https://localhost:8080/"
        },
        "id": "xYPOJQeryeka",
        "outputId": "0a392056-e659-4897-ca7d-83feaa7f15dd"
      },
      "execution_count": 10,
      "outputs": [
        {
          "output_type": "execute_result",
          "data": {
            "text/plain": [
              "49"
            ]
          },
          "metadata": {},
          "execution_count": 10
        }
      ]
    },
    {
      "cell_type": "code",
      "source": [
        "type(name)"
      ],
      "metadata": {
        "colab": {
          "base_uri": "https://localhost:8080/"
        },
        "id": "Dw9nDQUly7YJ",
        "outputId": "56ec2476-4c87-4029-83bb-5019597f5f65"
      },
      "execution_count": 12,
      "outputs": [
        {
          "output_type": "execute_result",
          "data": {
            "text/plain": [
              "str"
            ]
          },
          "metadata": {},
          "execution_count": 12
        }
      ]
    },
    {
      "cell_type": "code",
      "source": [
        "first = 'heman'\n",
        "family = 'hosseinpana'"
      ],
      "metadata": {
        "id": "xEnaU-IZy9aa"
      },
      "execution_count": 13,
      "outputs": []
    },
    {
      "cell_type": "code",
      "source": [
        "(first + ' ') * 2"
      ],
      "metadata": {
        "colab": {
          "base_uri": "https://localhost:8080/",
          "height": 35
        },
        "id": "07SaMPCFzGCJ",
        "outputId": "860b7756-04d0-4e60-d5c3-cdfca24d4bc4"
      },
      "execution_count": 19,
      "outputs": [
        {
          "output_type": "execute_result",
          "data": {
            "application/vnd.google.colaboratory.intrinsic+json": {
              "type": "string"
            },
            "text/plain": [
              "'heman heman '"
            ]
          },
          "metadata": {},
          "execution_count": 19
        }
      ]
    },
    {
      "cell_type": "code",
      "source": [
        "name[len(49)]"
      ],
      "metadata": {
        "colab": {
          "base_uri": "https://localhost:8080/",
          "height": 166
        },
        "id": "Sa5DaiL3z0lT",
        "outputId": "5ce81da8-0d9a-402b-969d-46a7194d782e"
      },
      "execution_count": 36,
      "outputs": [
        {
          "output_type": "error",
          "ename": "TypeError",
          "evalue": "ignored",
          "traceback": [
            "\u001b[0;31m---------------------------------------------------------------------------\u001b[0m",
            "\u001b[0;31mTypeError\u001b[0m                                 Traceback (most recent call last)",
            "\u001b[0;32m<ipython-input-36-4db1554c17cb>\u001b[0m in \u001b[0;36m<module>\u001b[0;34m()\u001b[0m\n\u001b[0;32m----> 1\u001b[0;31m \u001b[0mname\u001b[0m\u001b[0;34m[\u001b[0m\u001b[0mlen\u001b[0m\u001b[0;34m(\u001b[0m\u001b[0;36m49\u001b[0m\u001b[0;34m)\u001b[0m\u001b[0;34m]\u001b[0m\u001b[0;34m\u001b[0m\u001b[0;34m\u001b[0m\u001b[0m\n\u001b[0m",
            "\u001b[0;31mTypeError\u001b[0m: object of type 'int' has no len()"
          ]
        }
      ]
    },
    {
      "cell_type": "code",
      "source": [
        "name[0::2]"
      ],
      "metadata": {
        "colab": {
          "base_uri": "https://localhost:8080/",
          "height": 35
        },
        "id": "_yXEjrTu0uv-",
        "outputId": "070525e9-e008-4596-84a7-63b62fc59a7d"
      },
      "execution_count": 40,
      "outputs": [
        {
          "output_type": "execute_result",
          "data": {
            "application/vnd.google.colaboratory.intrinsic+json": {
              "type": "string"
            },
            "text/plain": [
              "'M aei ea osiaa,ti spto oe'"
            ]
          },
          "metadata": {},
          "execution_count": 40
        }
      ]
    },
    {
      "cell_type": "code",
      "source": [
        "name[:-15]"
      ],
      "metadata": {
        "colab": {
          "base_uri": "https://localhost:8080/",
          "height": 35
        },
        "id": "k1LaMSRn1ZQf",
        "outputId": "7bc2b3b7-970f-4243-8ca0-3ef2138b5cf8"
      },
      "execution_count": 46,
      "outputs": [
        {
          "output_type": "execute_result",
          "data": {
            "application/vnd.google.colaboratory.intrinsic+json": {
              "type": "string"
            },
            "text/plain": [
              "'My name is heman hosseinapan, this'"
            ]
          },
          "metadata": {},
          "execution_count": 46
        }
      ]
    },
    {
      "cell_type": "code",
      "source": [
        "print(name , ' 10' + ' True')\n"
      ],
      "metadata": {
        "colab": {
          "base_uri": "https://localhost:8080/"
        },
        "id": "eYy7lEV32VCy",
        "outputId": "1b2a39b9-5365-4197-ed64-81cdf10c69da"
      },
      "execution_count": 56,
      "outputs": [
        {
          "output_type": "stream",
          "name": "stdout",
          "text": [
            "My name is heman hosseinapan, this is python code  10 True\n"
          ]
        }
      ]
    },
    {
      "cell_type": "code",
      "source": [
        "y = input(\"Enter your name\")"
      ],
      "metadata": {
        "colab": {
          "base_uri": "https://localhost:8080/"
        },
        "id": "lERPazem3HFQ",
        "outputId": "eceaea45-4607-48bf-e827-38a0e2c593a1"
      },
      "execution_count": 72,
      "outputs": [
        {
          "name": "stdout",
          "output_type": "stream",
          "text": [
            "Enter your name20\n"
          ]
        }
      ]
    },
    {
      "cell_type": "code",
      "source": [
        "int(y) * 10"
      ],
      "metadata": {
        "colab": {
          "base_uri": "https://localhost:8080/"
        },
        "id": "MwWenD8q3SuT",
        "outputId": "28d4c865-ae75-415d-a68e-b0dd6b130ea3"
      },
      "execution_count": 73,
      "outputs": [
        {
          "output_type": "execute_result",
          "data": {
            "text/plain": [
              "200"
            ]
          },
          "metadata": {},
          "execution_count": 73
        }
      ]
    },
    {
      "cell_type": "code",
      "source": [
        "x =  10 > 25\n",
        "y = 60>30"
      ],
      "metadata": {
        "id": "f363wzS13r6P"
      },
      "execution_count": 84,
      "outputs": []
    },
    {
      "cell_type": "code",
      "source": [
        "not y"
      ],
      "metadata": {
        "colab": {
          "base_uri": "https://localhost:8080/"
        },
        "id": "anmbbDgeSVkA",
        "outputId": "041acf20-1d61-400f-f12b-d349183e11bc"
      },
      "execution_count": 88,
      "outputs": [
        {
          "output_type": "execute_result",
          "data": {
            "text/plain": [
              "False"
            ]
          },
          "metadata": {},
          "execution_count": 88
        }
      ]
    },
    {
      "cell_type": "code",
      "source": [
        "f=10"
      ],
      "metadata": {
        "id": "_Xd09XHJSXB_"
      },
      "execution_count": 90,
      "outputs": []
    },
    {
      "cell_type": "code",
      "source": [
        "number = int(input(\"Enter number?\"))"
      ],
      "metadata": {
        "colab": {
          "base_uri": "https://localhost:8080/"
        },
        "id": "sntYGBAp3bcs",
        "outputId": "90606107-6f21-45cc-fe39-7df7e3521498"
      },
      "execution_count": 4,
      "outputs": [
        {
          "name": "stdout",
          "output_type": "stream",
          "text": [
            "Enter number?11\n"
          ]
        }
      ]
    },
    {
      "cell_type": "code",
      "source": [
        "if number % 2 == 0:\n",
        "  print(\"Even\")\n",
        "  print(\"another\")\n",
        "else:\n",
        "  print(\"odd\")"
      ],
      "metadata": {
        "colab": {
          "base_uri": "https://localhost:8080/"
        },
        "id": "uAqZXofF3aYd",
        "outputId": "9034fe7a-eb60-431c-b47a-8bd9b18a6229"
      },
      "execution_count": 9,
      "outputs": [
        {
          "output_type": "stream",
          "name": "stdout",
          "text": [
            "odd\n"
          ]
        }
      ]
    },
    {
      "cell_type": "code",
      "source": [
        "x = -10\n",
        "\n",
        "if x<0:\n",
        "  x = -x\n",
        "\n",
        "print(x)"
      ],
      "metadata": {
        "colab": {
          "base_uri": "https://localhost:8080/"
        },
        "id": "UnvK4eVTZ77z",
        "outputId": "fc28ec58-d06e-4aa2-f6ac-9dd8de75aba4"
      },
      "execution_count": 16,
      "outputs": [
        {
          "output_type": "stream",
          "name": "stdout",
          "text": [
            "10\n"
          ]
        }
      ]
    },
    {
      "cell_type": "code",
      "source": [
        "a = 254\n",
        "b = 128\n",
        "\n",
        "if a>b:\n",
        "  temp = a\n",
        "  a = b\n",
        "  b = temp\n",
        "\n",
        "print(a)\n",
        "print(b)\n",
        "\n"
      ],
      "metadata": {
        "colab": {
          "base_uri": "https://localhost:8080/"
        },
        "id": "rqewrbsYbSOc",
        "outputId": "6ca8ca72-adb3-46cf-b02f-63791fdef668"
      },
      "execution_count": 21,
      "outputs": [
        {
          "output_type": "stream",
          "name": "stdout",
          "text": [
            "128\n",
            "254\n"
          ]
        }
      ]
    },
    {
      "cell_type": "code",
      "source": [
        "a = 93\n",
        "b = 147\n",
        "\n",
        "if a>b:\n",
        "  maximum = a\n",
        "else:\n",
        "  maximum = b\n",
        "\n",
        "print(maximum)"
      ],
      "metadata": {
        "colab": {
          "base_uri": "https://localhost:8080/"
        },
        "id": "Nx1dXCkpcC9c",
        "outputId": "72f1a777-9a12-4480-f165-53eba2cd9ca6"
      },
      "execution_count": 24,
      "outputs": [
        {
          "output_type": "stream",
          "name": "stdout",
          "text": [
            "147\n"
          ]
        }
      ]
    },
    {
      "cell_type": "code",
      "source": [
        "import random"
      ],
      "metadata": {
        "id": "DcDYCncmc3ti"
      },
      "execution_count": 26,
      "outputs": []
    },
    {
      "cell_type": "code",
      "source": [
        "coin = random.randrange(0,2)\n",
        "\n",
        "if coin==0:\n",
        "  print(\"shir\")\n",
        "else:\n",
        "  print(\"khat\")"
      ],
      "metadata": {
        "colab": {
          "base_uri": "https://localhost:8080/"
        },
        "id": "wPpDiq5JdAnW",
        "outputId": "838f7756-973a-4592-f11c-7cab1b7d3091"
      },
      "execution_count": 35,
      "outputs": [
        {
          "output_type": "stream",
          "name": "stdout",
          "text": [
            "khat\n"
          ]
        }
      ]
    },
    {
      "cell_type": "code",
      "source": [
        "import math\n",
        "b=120\n",
        "a=6\n",
        "c=7\n",
        "\n",
        "disc = b*b-4*a*c\n",
        "print(disc)\n",
        "\n",
        "if disc>0:\n",
        "  print(\"two answer\")\n",
        "  d = math.sqrt(disc)\n",
        "  print((-b+d)/2)\n",
        "  print((-b-d)/2)\n",
        "elif disc==0:\n",
        "  print(\"repeated answer\")\n",
        "else:\n",
        "  print(\"no real answer\")\n"
      ],
      "metadata": {
        "colab": {
          "base_uri": "https://localhost:8080/"
        },
        "id": "UYvGzhrjfaMe",
        "outputId": "e7408efa-f06f-4945-f100-517afb7b443a"
      },
      "execution_count": 46,
      "outputs": [
        {
          "output_type": "stream",
          "name": "stdout",
          "text": [
            "14232\n",
            "two answer\n",
            "-0.3510268319730443\n",
            "-119.64897316802696\n"
          ]
        }
      ]
    },
    {
      "cell_type": "code",
      "source": [
        "\n",
        "a = 93\n",
        "b = 147\n",
        "\n",
        "max = a if a>b else b\n",
        "print(max)"
      ],
      "metadata": {
        "colab": {
          "base_uri": "https://localhost:8080/"
        },
        "id": "mhGd0uXjhmbk",
        "outputId": "6704dfb7-f499-4a45-a23a-f9fae893197d"
      },
      "execution_count": 48,
      "outputs": [
        {
          "output_type": "stream",
          "name": "stdout",
          "text": [
            "147\n"
          ]
        }
      ]
    }
  ]
}